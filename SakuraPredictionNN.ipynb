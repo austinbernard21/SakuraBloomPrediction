{
 "cells": [
  {
   "cell_type": "code",
   "execution_count": 1,
   "metadata": {},
   "outputs": [],
   "source": [
    "import numpy as np\n",
    "import pandas as pd\n",
    "import matplotlib.pyplot as plt\n",
    "from sklearn import preprocessing\n",
    "from sklearn.metrics import r2_score, mean_squared_error\n",
    "import math\n",
    "import seaborn as sb\n",
    "%matplotlib inline"
   ]
  },
  {
   "cell_type": "code",
   "execution_count": 2,
   "metadata": {},
   "outputs": [],
   "source": [
    "bloom_dates_training = pd.read_csv('bd_train.xlsx')\n",
    "bloom_dates_test = pd.read_csv('bd_test.xlsx')\n",
    "bloom_dates_training.drop(['Unnamed: 0'],axis=1,inplace=True)\n",
    "bloom_dates_test.drop(['Unnamed: 0'],axis=1,inplace=True)\n",
    "    \n",
    "pd.options.display.max_rows=500\n",
    "pd.options.mode.chained_assignment = None\n",
    "\n",
    "tokyo_data = pd.read_csv('tokyo.csv')\n",
    "    \n",
    "tokyo_data = tokyo_data.drop(['Unnamed: 0'],axis=1).rename(index=str, columns={\"現地平均気圧\": \"average pressure\", \"海面平均気圧\": \"sea surface pressure\", \"合計降水量\": 'total precipitation', \"1時間最大降水量\":\"1 hour precipitation\",\n",
    "                                             \"10分間最大降水量\" : \"10 min precipitation\", \"平均気温\": \"average temp\", \n",
    "                                             \"最高気温\" :  \"maximum temperature\", \"最低気温\": 'lowest temperature',\n",
    "                                             \"平均湿度\": \"average humidity\", \"最低湿度\" : \"lowest humidity\", \"日照時間\" : \"sunshine\"})\n",
    "\n",
    "test_years = [1966,1971,1985,1994,2008]\n",
    "training_years = tokyo_data[~tokyo_data['year'].isin(test_years)].year.unique()"
   ]
  },
  {
   "cell_type": "code",
   "execution_count": 3,
   "metadata": {},
   "outputs": [
    {
     "data": {
      "text/html": [
       "<div>\n",
       "<style scoped>\n",
       "    .dataframe tbody tr th:only-of-type {\n",
       "        vertical-align: middle;\n",
       "    }\n",
       "\n",
       "    .dataframe tbody tr th {\n",
       "        vertical-align: top;\n",
       "    }\n",
       "\n",
       "    .dataframe thead th {\n",
       "        text-align: right;\n",
       "    }\n",
       "</style>\n",
       "<table border=\"1\" class=\"dataframe\">\n",
       "  <thead>\n",
       "    <tr style=\"text-align: right;\">\n",
       "      <th></th>\n",
       "      <th>year</th>\n",
       "      <th>month</th>\n",
       "      <th>day</th>\n",
       "      <th>average pressure</th>\n",
       "      <th>sea surface pressure</th>\n",
       "      <th>total precipitation</th>\n",
       "      <th>1 hour precipitation</th>\n",
       "      <th>10 min precipitation</th>\n",
       "      <th>average temp</th>\n",
       "      <th>maximum temperature</th>\n",
       "      <th>lowest temperature</th>\n",
       "      <th>average humidity</th>\n",
       "      <th>lowest humidity</th>\n",
       "      <th>sunshine</th>\n",
       "    </tr>\n",
       "  </thead>\n",
       "  <tbody>\n",
       "    <tr>\n",
       "      <th>count</th>\n",
       "      <td>20544.000000</td>\n",
       "      <td>20544.000000</td>\n",
       "      <td>20544.000000</td>\n",
       "      <td>20544.000000</td>\n",
       "      <td>20544.000000</td>\n",
       "      <td>20544.000000</td>\n",
       "      <td>20544.000000</td>\n",
       "      <td>20544.00000</td>\n",
       "      <td>20544.000000</td>\n",
       "      <td>20544.000000</td>\n",
       "      <td>20544.000000</td>\n",
       "      <td>20544.000000</td>\n",
       "      <td>20544.000000</td>\n",
       "      <td>20544.000000</td>\n",
       "    </tr>\n",
       "    <tr>\n",
       "      <th>mean</th>\n",
       "      <td>1988.625876</td>\n",
       "      <td>6.503115</td>\n",
       "      <td>15.728777</td>\n",
       "      <td>1009.858304</td>\n",
       "      <td>1013.814413</td>\n",
       "      <td>4.082978</td>\n",
       "      <td>1.504196</td>\n",
       "      <td>0.57298</td>\n",
       "      <td>16.033022</td>\n",
       "      <td>19.914871</td>\n",
       "      <td>12.574815</td>\n",
       "      <td>62.706873</td>\n",
       "      <td>45.173871</td>\n",
       "      <td>5.338016</td>\n",
       "    </tr>\n",
       "    <tr>\n",
       "      <th>std</th>\n",
       "      <td>16.237657</td>\n",
       "      <td>3.454602</td>\n",
       "      <td>8.799930</td>\n",
       "      <td>6.811289</td>\n",
       "      <td>6.810376</td>\n",
       "      <td>12.445912</td>\n",
       "      <td>4.309710</td>\n",
       "      <td>1.64613</td>\n",
       "      <td>7.893209</td>\n",
       "      <td>7.972881</td>\n",
       "      <td>8.205670</td>\n",
       "      <td>15.571041</td>\n",
       "      <td>16.925758</td>\n",
       "      <td>3.990114</td>\n",
       "    </tr>\n",
       "    <tr>\n",
       "      <th>min</th>\n",
       "      <td>1961.000000</td>\n",
       "      <td>1.000000</td>\n",
       "      <td>1.000000</td>\n",
       "      <td>975.900000</td>\n",
       "      <td>980.100000</td>\n",
       "      <td>0.000000</td>\n",
       "      <td>0.000000</td>\n",
       "      <td>0.00000</td>\n",
       "      <td>-1.200000</td>\n",
       "      <td>-0.200000</td>\n",
       "      <td>-5.500000</td>\n",
       "      <td>19.000000</td>\n",
       "      <td>6.000000</td>\n",
       "      <td>0.000000</td>\n",
       "    </tr>\n",
       "    <tr>\n",
       "      <th>25%</th>\n",
       "      <td>1975.000000</td>\n",
       "      <td>3.000000</td>\n",
       "      <td>8.000000</td>\n",
       "      <td>1005.200000</td>\n",
       "      <td>1009.100000</td>\n",
       "      <td>0.000000</td>\n",
       "      <td>0.000000</td>\n",
       "      <td>0.00000</td>\n",
       "      <td>8.700000</td>\n",
       "      <td>12.900000</td>\n",
       "      <td>5.000000</td>\n",
       "      <td>51.000000</td>\n",
       "      <td>31.000000</td>\n",
       "      <td>1.000000</td>\n",
       "    </tr>\n",
       "    <tr>\n",
       "      <th>50%</th>\n",
       "      <td>1989.000000</td>\n",
       "      <td>7.000000</td>\n",
       "      <td>16.000000</td>\n",
       "      <td>1009.800000</td>\n",
       "      <td>1013.700000</td>\n",
       "      <td>0.000000</td>\n",
       "      <td>0.000000</td>\n",
       "      <td>0.00000</td>\n",
       "      <td>16.400000</td>\n",
       "      <td>20.200000</td>\n",
       "      <td>12.800000</td>\n",
       "      <td>64.000000</td>\n",
       "      <td>45.000000</td>\n",
       "      <td>5.900000</td>\n",
       "    </tr>\n",
       "    <tr>\n",
       "      <th>75%</th>\n",
       "      <td>2003.000000</td>\n",
       "      <td>10.000000</td>\n",
       "      <td>23.000000</td>\n",
       "      <td>1014.600000</td>\n",
       "      <td>1018.600000</td>\n",
       "      <td>1.500000</td>\n",
       "      <td>1.000000</td>\n",
       "      <td>0.50000</td>\n",
       "      <td>22.500000</td>\n",
       "      <td>26.300000</td>\n",
       "      <td>19.600000</td>\n",
       "      <td>74.000000</td>\n",
       "      <td>57.000000</td>\n",
       "      <td>8.800000</td>\n",
       "    </tr>\n",
       "    <tr>\n",
       "      <th>max</th>\n",
       "      <td>2017.000000</td>\n",
       "      <td>12.000000</td>\n",
       "      <td>31.000000</td>\n",
       "      <td>1033.100000</td>\n",
       "      <td>1037.000000</td>\n",
       "      <td>259.500000</td>\n",
       "      <td>82.500000</td>\n",
       "      <td>35.00000</td>\n",
       "      <td>33.200000</td>\n",
       "      <td>39.500000</td>\n",
       "      <td>30.400000</td>\n",
       "      <td>100.000000</td>\n",
       "      <td>100.000000</td>\n",
       "      <td>13.800000</td>\n",
       "    </tr>\n",
       "  </tbody>\n",
       "</table>\n",
       "</div>"
      ],
      "text/plain": [
       "               year         month           day  average pressure  \\\n",
       "count  20544.000000  20544.000000  20544.000000      20544.000000   \n",
       "mean    1988.625876      6.503115     15.728777       1009.858304   \n",
       "std       16.237657      3.454602      8.799930          6.811289   \n",
       "min     1961.000000      1.000000      1.000000        975.900000   \n",
       "25%     1975.000000      3.000000      8.000000       1005.200000   \n",
       "50%     1989.000000      7.000000     16.000000       1009.800000   \n",
       "75%     2003.000000     10.000000     23.000000       1014.600000   \n",
       "max     2017.000000     12.000000     31.000000       1033.100000   \n",
       "\n",
       "       sea surface pressure  total precipitation  1 hour precipitation  \\\n",
       "count          20544.000000         20544.000000          20544.000000   \n",
       "mean            1013.814413             4.082978              1.504196   \n",
       "std                6.810376            12.445912              4.309710   \n",
       "min              980.100000             0.000000              0.000000   \n",
       "25%             1009.100000             0.000000              0.000000   \n",
       "50%             1013.700000             0.000000              0.000000   \n",
       "75%             1018.600000             1.500000              1.000000   \n",
       "max             1037.000000           259.500000             82.500000   \n",
       "\n",
       "       10 min precipitation  average temp  maximum temperature  \\\n",
       "count           20544.00000  20544.000000         20544.000000   \n",
       "mean                0.57298     16.033022            19.914871   \n",
       "std                 1.64613      7.893209             7.972881   \n",
       "min                 0.00000     -1.200000            -0.200000   \n",
       "25%                 0.00000      8.700000            12.900000   \n",
       "50%                 0.00000     16.400000            20.200000   \n",
       "75%                 0.50000     22.500000            26.300000   \n",
       "max                35.00000     33.200000            39.500000   \n",
       "\n",
       "       lowest temperature  average humidity  lowest humidity      sunshine  \n",
       "count        20544.000000      20544.000000     20544.000000  20544.000000  \n",
       "mean            12.574815         62.706873        45.173871      5.338016  \n",
       "std              8.205670         15.571041        16.925758      3.990114  \n",
       "min             -5.500000         19.000000         6.000000      0.000000  \n",
       "25%              5.000000         51.000000        31.000000      1.000000  \n",
       "50%             12.800000         64.000000        45.000000      5.900000  \n",
       "75%             19.600000         74.000000        57.000000      8.800000  \n",
       "max             30.400000        100.000000       100.000000     13.800000  "
      ]
     },
     "execution_count": 3,
     "metadata": {},
     "output_type": "execute_result"
    }
   ],
   "source": [
    "tokyo_data.describe()"
   ]
  },
  {
   "cell_type": "code",
   "execution_count": 4,
   "metadata": {},
   "outputs": [
    {
     "data": {
      "text/plain": [
       "<matplotlib.axes._subplots.AxesSubplot at 0x1c0b6552c08>"
      ]
     },
     "execution_count": 4,
     "metadata": {},
     "output_type": "execute_result"
    },
    {
     "data": {
      "image/png": "[encoded data removed]",
      "text/plain": [
       "<Figure size 792x648 with 2 Axes>"
      ]
     },
     "metadata": {
      "needs_background": "light"
     },
     "output_type": "display_data"
    }
   ],
   "source": [
    "corr = tokyo_data.drop(labels=['year','month','day'],axis=1).corr()\n",
    "\n",
    "# Generate a mask for the upper triangle\n",
    "mask = np.triu(np.ones_like(corr, dtype=np.bool))\n",
    "\n",
    "# Set up the matplotlib figure\n",
    "f, ax = plt.subplots(figsize=(11, 9))\n",
    "\n",
    "# Generate a custom diverging colormap\n",
    "cmap = sb.diverging_palette(220, 10, as_cmap=True)\n",
    "\n",
    "sb.heatmap(corr, cmap=cmap, vmax=1,vmin=-1, center=0,\n",
    "            square=True, linewidths=.7, cbar_kws={\"shrink\": .5},annot=True)"
   ]
  },
  {
   "cell_type": "code",
   "execution_count": 5,
   "metadata": {},
   "outputs": [],
   "source": [
    "upper = corr.where(np.triu(np.ones(corr.shape), k=1).astype(np.bool))\n",
    "to_drop = [column for column in upper.columns if any(upper[column] > 0.7)]\n",
    "tokyo_data.drop(labels=to_drop,axis=1,inplace=True)"
   ]
  },
  {
   "cell_type": "code",
   "execution_count": 6,
   "metadata": {},
   "outputs": [],
   "source": [
    "import datetime\n",
    "def return_date(y,m,d):\n",
    "    return datetime.datetime(y,m,d)\n",
    "\n",
    "def week_of_year(date):\n",
    "    return date.isocalendar()[1]\n",
    "\n",
    "bloom_dates_training[\"date\"] = bloom_dates_training.apply(lambda row: return_date(row['year'],\n",
    "                                                                                 row['month'],\n",
    "                                                                                 row['day']),\n",
    "                                                                                 axis=1)\n",
    "\n",
    "bloom_dates_test[\"date\"] = bloom_dates_test.apply(lambda row: return_date(row['year'],\n",
    "                                                                                 row['month'],\n",
    "                                                                                 row['day']),\n",
    "                                                                                 axis=1)\n",
    "\n",
    "bloom_dates_training[\"week of year\"] = bloom_dates_training.apply(lambda row: week_of_year(row['date']) ,axis=1)\n",
    "\n",
    "bloom_dates_test[\"week of year\"] = bloom_dates_test.apply(lambda row: week_of_year(row['date']), axis=1)"
   ]
  },
  {
   "cell_type": "code",
   "execution_count": 7,
   "metadata": {},
   "outputs": [],
   "source": [
    "bloom_dates_training[['year','month','day']].to_csv('bd_train.xlsx')"
   ]
  },
  {
   "cell_type": "code",
   "execution_count": 8,
   "metadata": {},
   "outputs": [],
   "source": [
    "bloom_dates_test[['year','month','day']].to_csv('bd_test.xlsx')"
   ]
  },
  {
   "cell_type": "code",
   "execution_count": 9,
   "metadata": {},
   "outputs": [
    {
     "name": "stderr",
     "output_type": "stream",
     "text": [
      "C:\\Users\\thebe\\Anaconda3\\envs\\tensorflow_env\\lib\\site-packages\\ipykernel_launcher.py:5: UserWarning: Boolean Series key will be reindexed to match DataFrame index.\n",
      "  \"\"\"\n",
      "C:\\Users\\thebe\\Anaconda3\\envs\\tensorflow_env\\lib\\site-packages\\ipykernel_launcher.py:12: UserWarning: Boolean Series key will be reindexed to match DataFrame index.\n",
      "  if sys.path[0] == '':\n"
     ]
    }
   ],
   "source": [
    "monthly_averages_by_year_train = []\n",
    "for year in training_years:\n",
    "    months = tokyo_data[tokyo_data['year']==year].month.unique()\n",
    "    for m in months:\n",
    "        ap,tp,at,ah,sun = tokyo_data[tokyo_data['year']==year][tokyo_data['month']==m].mean(axis=0)[3:]\n",
    "        monthly_averages_by_year_train.append([year,m,ap,tp,at,ah,sun])\n",
    "        \n",
    "monthly_averages_by_year_test = []\n",
    "for year in test_years:\n",
    "    months = tokyo_data[tokyo_data['year']==year].month.unique()\n",
    "    for m in months:\n",
    "        ap,tp,at,ah,sun = tokyo_data[tokyo_data['year']==year][tokyo_data['month']==m].mean(axis=0)[3:]\n",
    "        monthly_averages_by_year_test.append([year,m,ap,tp,at,ah,sun])"
   ]
  },
  {
   "cell_type": "code",
   "execution_count": 10,
   "metadata": {},
   "outputs": [],
   "source": [
    "mask = tokyo_data.columns != 'day'\n",
    "tokyo_data_train = pd.DataFrame(np.array(monthly_averages_by_year_train),columns=tokyo_data.columns[mask])\n",
    "tokyo_data_test = pd.DataFrame(np.array(monthly_averages_by_year_test),columns=tokyo_data.columns[mask])\n",
    "tokyo_data_train = tokyo_data_train.astype({'year':int, 'month': int})\n",
    "tokyo_data_test = tokyo_data_test.astype({'year':int, 'month': int})\n",
    "tokyo_data = pd.concat([tokyo_data_train,tokyo_data_test],ignore_index=True)\n",
    "tokyo_data.sort_values(by=['year','month'],inplace=True)"
   ]
  },
  {
   "cell_type": "code",
   "execution_count": 11,
   "metadata": {},
   "outputs": [],
   "source": [
    "test_years = [1966,1971,1985,1994,2008]\n",
    "training_years = tokyo_data[~tokyo_data['year'].isin(test_years)].year.unique()\n",
    "\n",
    "tokyo_training = pd.DataFrame(columns = tokyo_data.columns)\n",
    "for year in training_years:\n",
    "    tokyo_training = tokyo_training.append(tokyo_data_train[tokyo_data_train['year']==year],ignore_index=True)\n",
    "    \n",
    "tokyo_test = pd.DataFrame(columns=tokyo_data.columns)\n",
    "for year in test_years:\n",
    "    tokyo_test = tokyo_test.append(tokyo_data_test[tokyo_data_test['year']==year], ignore_index=True)"
   ]
  },
  {
   "cell_type": "code",
   "execution_count": 12,
   "metadata": {},
   "outputs": [
    {
     "data": {
      "text/html": [
       "<div>\n",
       "<style scoped>\n",
       "    .dataframe tbody tr th:only-of-type {\n",
       "        vertical-align: middle;\n",
       "    }\n",
       "\n",
       "    .dataframe tbody tr th {\n",
       "        vertical-align: top;\n",
       "    }\n",
       "\n",
       "    .dataframe thead th {\n",
       "        text-align: right;\n",
       "    }\n",
       "</style>\n",
       "<table border=\"1\" class=\"dataframe\">\n",
       "  <thead>\n",
       "    <tr style=\"text-align: right;\">\n",
       "      <th></th>\n",
       "      <th>year</th>\n",
       "      <th>month</th>\n",
       "      <th>average pressure</th>\n",
       "      <th>total precipitation</th>\n",
       "      <th>average temp</th>\n",
       "      <th>average humidity</th>\n",
       "      <th>sunshine</th>\n",
       "    </tr>\n",
       "  </thead>\n",
       "  <tbody>\n",
       "    <tr>\n",
       "      <th>0</th>\n",
       "      <td>1961</td>\n",
       "      <td>1</td>\n",
       "      <td>1015.245161</td>\n",
       "      <td>1.258065</td>\n",
       "      <td>3.570968</td>\n",
       "      <td>54.032258</td>\n",
       "      <td>5.922581</td>\n",
       "    </tr>\n",
       "    <tr>\n",
       "      <th>1</th>\n",
       "      <td>1961</td>\n",
       "      <td>2</td>\n",
       "      <td>1011.821429</td>\n",
       "      <td>1.553571</td>\n",
       "      <td>4.528571</td>\n",
       "      <td>48.750000</td>\n",
       "      <td>7.067857</td>\n",
       "    </tr>\n",
       "    <tr>\n",
       "      <th>2</th>\n",
       "      <td>1961</td>\n",
       "      <td>3</td>\n",
       "      <td>1016.903226</td>\n",
       "      <td>3.438710</td>\n",
       "      <td>8.222581</td>\n",
       "      <td>60.870968</td>\n",
       "      <td>5.841935</td>\n",
       "    </tr>\n",
       "    <tr>\n",
       "      <th>3</th>\n",
       "      <td>1961</td>\n",
       "      <td>4</td>\n",
       "      <td>1013.890000</td>\n",
       "      <td>6.103333</td>\n",
       "      <td>14.920000</td>\n",
       "      <td>62.933333</td>\n",
       "      <td>6.860000</td>\n",
       "    </tr>\n",
       "    <tr>\n",
       "      <th>4</th>\n",
       "      <td>1961</td>\n",
       "      <td>5</td>\n",
       "      <td>1011.229032</td>\n",
       "      <td>1.790323</td>\n",
       "      <td>19.780645</td>\n",
       "      <td>69.064516</td>\n",
       "      <td>6.167742</td>\n",
       "    </tr>\n",
       "  </tbody>\n",
       "</table>\n",
       "</div>"
      ],
      "text/plain": [
       "   year month  average pressure  total precipitation  average temp  \\\n",
       "0  1961     1       1015.245161             1.258065      3.570968   \n",
       "1  1961     2       1011.821429             1.553571      4.528571   \n",
       "2  1961     3       1016.903226             3.438710      8.222581   \n",
       "3  1961     4       1013.890000             6.103333     14.920000   \n",
       "4  1961     5       1011.229032             1.790323     19.780645   \n",
       "\n",
       "   average humidity  sunshine  \n",
       "0         54.032258  5.922581  \n",
       "1         48.750000  7.067857  \n",
       "2         60.870968  5.841935  \n",
       "3         62.933333  6.860000  \n",
       "4         69.064516  6.167742  "
      ]
     },
     "execution_count": 12,
     "metadata": {},
     "output_type": "execute_result"
    }
   ],
   "source": [
    "tokyo_training.head()"
   ]
  },
  {
   "cell_type": "code",
   "execution_count": 13,
   "metadata": {},
   "outputs": [
    {
     "data": {
      "text/html": [
       "<div>\n",
       "<style scoped>\n",
       "    .dataframe tbody tr th:only-of-type {\n",
       "        vertical-align: middle;\n",
       "    }\n",
       "\n",
       "    .dataframe tbody tr th {\n",
       "        vertical-align: top;\n",
       "    }\n",
       "\n",
       "    .dataframe thead th {\n",
       "        text-align: right;\n",
       "    }\n",
       "</style>\n",
       "<table border=\"1\" class=\"dataframe\">\n",
       "  <thead>\n",
       "    <tr style=\"text-align: right;\">\n",
       "      <th></th>\n",
       "      <th>average pressure</th>\n",
       "      <th>total precipitation</th>\n",
       "      <th>average temp</th>\n",
       "      <th>average humidity</th>\n",
       "      <th>sunshine</th>\n",
       "    </tr>\n",
       "  </thead>\n",
       "  <tbody>\n",
       "    <tr>\n",
       "      <th>count</th>\n",
       "      <td>615.000000</td>\n",
       "      <td>615.000000</td>\n",
       "      <td>615.000000</td>\n",
       "      <td>615.000000</td>\n",
       "      <td>615.000000</td>\n",
       "    </tr>\n",
       "    <tr>\n",
       "      <th>mean</th>\n",
       "      <td>0.471922</td>\n",
       "      <td>0.161748</td>\n",
       "      <td>0.487047</td>\n",
       "      <td>0.531791</td>\n",
       "      <td>0.543617</td>\n",
       "    </tr>\n",
       "    <tr>\n",
       "      <th>std</th>\n",
       "      <td>0.206125</td>\n",
       "      <td>0.116746</td>\n",
       "      <td>0.281321</td>\n",
       "      <td>0.197523</td>\n",
       "      <td>0.169702</td>\n",
       "    </tr>\n",
       "    <tr>\n",
       "      <th>min</th>\n",
       "      <td>0.000000</td>\n",
       "      <td>0.000000</td>\n",
       "      <td>0.000000</td>\n",
       "      <td>0.000000</td>\n",
       "      <td>0.000000</td>\n",
       "    </tr>\n",
       "    <tr>\n",
       "      <th>25%</th>\n",
       "      <td>0.312057</td>\n",
       "      <td>0.076282</td>\n",
       "      <td>0.215184</td>\n",
       "      <td>0.385154</td>\n",
       "      <td>0.430172</td>\n",
       "    </tr>\n",
       "    <tr>\n",
       "      <th>50%</th>\n",
       "      <td>0.478040</td>\n",
       "      <td>0.142949</td>\n",
       "      <td>0.492479</td>\n",
       "      <td>0.543257</td>\n",
       "      <td>0.548581</td>\n",
       "    </tr>\n",
       "    <tr>\n",
       "      <th>75%</th>\n",
       "      <td>0.625916</td>\n",
       "      <td>0.214217</td>\n",
       "      <td>0.742189</td>\n",
       "      <td>0.697591</td>\n",
       "      <td>0.656512</td>\n",
       "    </tr>\n",
       "    <tr>\n",
       "      <th>max</th>\n",
       "      <td>1.000000</td>\n",
       "      <td>1.000000</td>\n",
       "      <td>1.000000</td>\n",
       "      <td>1.000000</td>\n",
       "      <td>1.000000</td>\n",
       "    </tr>\n",
       "  </tbody>\n",
       "</table>\n",
       "</div>"
      ],
      "text/plain": [
       "       average pressure  total precipitation  average temp  average humidity  \\\n",
       "count        615.000000           615.000000    615.000000        615.000000   \n",
       "mean           0.471922             0.161748      0.487047          0.531791   \n",
       "std            0.206125             0.116746      0.281321          0.197523   \n",
       "min            0.000000             0.000000      0.000000          0.000000   \n",
       "25%            0.312057             0.076282      0.215184          0.385154   \n",
       "50%            0.478040             0.142949      0.492479          0.543257   \n",
       "75%            0.625916             0.214217      0.742189          0.697591   \n",
       "max            1.000000             1.000000      1.000000          1.000000   \n",
       "\n",
       "         sunshine  \n",
       "count  615.000000  \n",
       "mean     0.543617  \n",
       "std      0.169702  \n",
       "min      0.000000  \n",
       "25%      0.430172  \n",
       "50%      0.548581  \n",
       "75%      0.656512  \n",
       "max      1.000000  "
      ]
     },
     "execution_count": 13,
     "metadata": {},
     "output_type": "execute_result"
    }
   ],
   "source": [
    "from sklearn.preprocessing import MinMaxScaler\n",
    "scaler = MinMaxScaler()\n",
    "scaling_columns = tokyo_training.columns[2:]\n",
    "tokyo_training[scaling_columns] = scaler.fit_transform(tokyo_training[scaling_columns])\n",
    "tokyo_test[scaling_columns] = scaler.transform(tokyo_test[scaling_columns])\n",
    "tokyo_training.describe()"
   ]
  },
  {
   "cell_type": "code",
   "execution_count": 14,
   "metadata": {},
   "outputs": [],
   "source": [
    "X_train = []\n",
    "for year in training_years:    \n",
    "    X_train.append(np.array(tokyo_training[tokyo_training['year'] == year].head(2).drop(labels=['year','month'],axis=1)))\n",
    "    \n",
    "X_test = []\n",
    "for year in test_years:    \n",
    "    X_test.append(np.array(tokyo_test[tokyo_test['year'] == year].head(2).drop(labels=['year','month'],axis=1)))\n",
    "    \n",
    "X_train = np.array(X_train).reshape(-1,10)\n",
    "X_test = np.array(X_test).reshape(-1,10)"
   ]
  },
  {
   "cell_type": "code",
   "execution_count": 15,
   "metadata": {},
   "outputs": [
    {
     "name": "stdout",
     "output_type": "stream",
     "text": [
      "(52, 10)\n",
      "(5, 10)\n"
     ]
    }
   ],
   "source": [
    "print(X_train.shape)\n",
    "print(X_test.shape)"
   ]
  },
  {
   "cell_type": "code",
   "execution_count": 16,
   "metadata": {},
   "outputs": [],
   "source": [
    "y_train = np.array(bloom_dates_training['week of year'])\n",
    "y_test = np.array(bloom_dates_test['week of year'])"
   ]
  },
  {
   "cell_type": "code",
   "execution_count": 17,
   "metadata": {},
   "outputs": [
    {
     "name": "stdout",
     "output_type": "stream",
     "text": [
      "(52,)\n",
      "(5,)\n"
     ]
    }
   ],
   "source": [
    "print(y_train.shape)\n",
    "print(y_test.shape)"
   ]
  },
  {
   "cell_type": "code",
   "execution_count": 18,
   "metadata": {},
   "outputs": [],
   "source": [
    "from sklearn.utils import shuffle\n",
    "X_train, y_train = shuffle(X_train,y_train)\n",
    "X_test, y_test = shuffle(X_test,y_test) "
   ]
  },
  {
   "cell_type": "code",
   "execution_count": 19,
   "metadata": {},
   "outputs": [],
   "source": [
    "import tensorflow as tf\n",
    "from tensorflow.keras.models import Sequential\n",
    "from tensorflow.keras.layers import Dense, LSTM, BatchNormalization, Dropout"
   ]
  },
  {
   "cell_type": "code",
   "execution_count": 20,
   "metadata": {},
   "outputs": [
    {
     "name": "stdout",
     "output_type": "stream",
     "text": [
      "WARNING:tensorflow:From C:\\Users\\thebe\\Anaconda3\\envs\\tensorflow_env\\lib\\site-packages\\tensorflow\\python\\ops\\init_ops.py:97: calling GlorotUniform.__init__ (from tensorflow.python.ops.init_ops) with dtype is deprecated and will be removed in a future version.\n",
      "Instructions for updating:\n",
      "Call initializer instance with the dtype argument instead of passing it to the constructor\n",
      "WARNING:tensorflow:From C:\\Users\\thebe\\Anaconda3\\envs\\tensorflow_env\\lib\\site-packages\\tensorflow\\python\\ops\\init_ops.py:1251: calling VarianceScaling.__init__ (from tensorflow.python.ops.init_ops) with dtype is deprecated and will be removed in a future version.\n",
      "Instructions for updating:\n",
      "Call initializer instance with the dtype argument instead of passing it to the constructor\n",
      "WARNING:tensorflow:From C:\\Users\\thebe\\Anaconda3\\envs\\tensorflow_env\\lib\\site-packages\\tensorflow\\python\\ops\\init_ops.py:97: calling Zeros.__init__ (from tensorflow.python.ops.init_ops) with dtype is deprecated and will be removed in a future version.\n",
      "Instructions for updating:\n",
      "Call initializer instance with the dtype argument instead of passing it to the constructor\n"
     ]
    }
   ],
   "source": [
    "#training sequence\n",
    "# model = Sequential()\n",
    "# model.add(Dense(64, input_shape=(10,), activation='relu'))\n",
    "# # simple_model.add(Dense(32, activation='relu'))\n",
    "# model.add(Dense(1))\n",
    "\n",
    "# loss = 'mean_squared_error'\n",
    "# optimizer = tf.keras.optimizers.Adam(learning_rate=0.3,decay=1e-6)\n",
    "# model.compile(optimizer,\n",
    "#               loss,\n",
    "#              metrics=['mse'])\n",
    "\n",
    "# model.fit(x=X_train,y=y_train,\n",
    "#           batch_size=8,\n",
    "#           epochs=20,\n",
    "#           validation_data=(X_test,y_test))\n",
    "\n",
    "model = tf.keras.models.load_model('nn_model')"
   ]
  },
  {
   "cell_type": "code",
   "execution_count": 21,
   "metadata": {},
   "outputs": [
    {
     "name": "stdout",
     "output_type": "stream",
     "text": [
      "accuracy:  0.8\n"
     ]
    }
   ],
   "source": [
    "accuracy = 1 - np.sum(abs(y_test.reshape(-1,1) - np.round(model.predict(X_test),0)))/X_test.shape[0]\n",
    "print('accuracy: ', accuracy)"
   ]
  },
  {
   "cell_type": "code",
   "execution_count": 22,
   "metadata": {},
   "outputs": [],
   "source": [
    "from sklearn.ensemble import RandomForestClassifier"
   ]
  },
  {
   "cell_type": "code",
   "execution_count": 23,
   "metadata": {},
   "outputs": [],
   "source": [
    "rf = RandomForestClassifier()"
   ]
  },
  {
   "cell_type": "code",
   "execution_count": 24,
   "metadata": {},
   "outputs": [
    {
     "name": "stderr",
     "output_type": "stream",
     "text": [
      "C:\\Users\\thebe\\Anaconda3\\envs\\tensorflow_env\\lib\\site-packages\\sklearn\\ensemble\\forest.py:245: FutureWarning: The default value of n_estimators will change from 10 in version 0.20 to 100 in 0.22.\n",
      "  \"10 in version 0.20 to 100 in 0.22.\", FutureWarning)\n"
     ]
    },
    {
     "data": {
      "text/plain": [
       "RandomForestClassifier(bootstrap=True, class_weight=None, criterion='gini',\n",
       "                       max_depth=None, max_features='auto', max_leaf_nodes=None,\n",
       "                       min_impurity_decrease=0.0, min_impurity_split=None,\n",
       "                       min_samples_leaf=1, min_samples_split=2,\n",
       "                       min_weight_fraction_leaf=0.0, n_estimators=10,\n",
       "                       n_jobs=None, oob_score=False, random_state=None,\n",
       "                       verbose=0, warm_start=False)"
      ]
     },
     "execution_count": 24,
     "metadata": {},
     "output_type": "execute_result"
    }
   ],
   "source": [
    "rf.fit(X_train,y_train)"
   ]
  },
  {
   "cell_type": "code",
   "execution_count": 25,
   "metadata": {},
   "outputs": [
    {
     "name": "stdout",
     "output_type": "stream",
     "text": [
      "accuracy of random forest model 0.6\n"
     ]
    }
   ],
   "source": [
    "print('accuracy of random forest model', rf.score(X_test,y_test))"
   ]
  }
 ],
 "metadata": {
  "kernelspec": {
   "display_name": "Python 3",
   "language": "python",
   "name": "python3"
  },
  "language_info": {
   "codemirror_mode": {
    "name": "ipython",
    "version": 3
   },
   "file_extension": ".py",
   "mimetype": "text/x-python",
   "name": "python",
   "nbconvert_exporter": "python",
   "pygments_lexer": "ipython3",
   "version": "3.7.4"
  }
 },
 "nbformat": 4,
 "nbformat_minor": 2
}
